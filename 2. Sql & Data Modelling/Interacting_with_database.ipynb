{
 "cells": [
  {
   "cell_type": "markdown",
   "id": "1a209c57-49a7-477c-86d5-3545e639a971",
   "metadata": {
    "tags": []
   },
   "source": [
    "### SQL Review\n",
    "\n",
    "1. Create a table of drivers with id, first name, last name\n",
    "create table drivers (\n",
    "  id serial primary key,\n",
    "  first_name varchar,\n",
    "  last_name varchar\n",
    ");\n",
    "\n",
    "create table vehicles (\n",
    "  id serial primary key,\n",
    "  make varchar,\n",
    "  model varchar,\n",
    "  driver_id integer references drivers(id)\n",
    ");\n",
    "1. Insert a few records into both drivers and vehicles. Include 3 records of drivers who have vehicles, belonging in the vehicles table\n",
    "\n"
   ]
  },
  {
   "cell_type": "markdown",
   "id": "0428582e-a641-430a-930f-a0dda966d282",
   "metadata": {},
   "source": [
    "![](web-client.jpeg)\n"
   ]
  },
  {
   "cell_type": "markdown",
   "id": "1b420b04",
   "metadata": {
    "vscode": {
     "languageId": "sql"
    }
   },
   "source": [
    "#### Minuplating data \n",
    "\n",
    "**INSERT**\n",
    "INSERT INTO employees(id, name, age)\n",
    "VALUES\n",
    "    (1, 'John Doe', 30),\n",
    "    (2, 'Jame Smith', 25);\n",
    "\n",
    "**UPDATE- Modifying existing table**\n",
    "UPDATE employees\n",
    "SET age = 31 # the new values for those columns \n",
    "WHERE id = 1; # specify which rows to update\n",
    "\n",
    "#or update multiple columns\n",
    "UPDATE employees\n",
    "SET name = 'John Buttersby', age = 32\n",
    "WHERE id = 1;\n",
    "\n",
    "**DELETE**\n",
    "DELETE FROM employees\n",
    "WHERE id = 1; # specify which rows to delete\n",
    "\n",
    "\n",
    "\n"
   ]
  }
 ],
 "metadata": {
  "kernelspec": {
   "display_name": "WebDevelopment",
   "language": "python",
   "name": "python3"
  },
  "language_info": {
   "codemirror_mode": {
    "name": "ipython",
    "version": 3
   },
   "file_extension": ".py",
   "mimetype": "text/x-python",
   "name": "python",
   "nbconvert_exporter": "python",
   "pygments_lexer": "ipython3",
   "version": "3.12.7"
  }
 },
 "nbformat": 4,
 "nbformat_minor": 5
}
