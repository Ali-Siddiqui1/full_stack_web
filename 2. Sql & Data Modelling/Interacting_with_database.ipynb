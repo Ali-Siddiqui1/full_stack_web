{
 "cells": [
  {
   "cell_type": "markdown",
   "id": "1a209c57-49a7-477c-86d5-3545e639a971",
   "metadata": {
    "tags": []
   },
   "source": [
    "### SQL Review\n",
    "\n",
    "1. Create a table of drivers with id, first name, last name\n",
    "create table drivers (\n",
    "  id serial primary key,\n",
    "  first_name varchar,\n",
    "  last_name varchar\n",
    ");\n",
    "\n",
    "create table vehicles (\n",
    "  id serial primary key,\n",
    "  make varchar,\n",
    "  model varchar,\n",
    "  driver_id integer references drivers(id)\n",
    ");\n",
    "1. Insert a few records into both drivers and vehicles. Include 3 records of drivers who have vehicles, belonging in the vehicles table\n",
    "\n"
   ]
  },
  {
   "cell_type": "markdown",
   "id": "0428582e-a641-430a-930f-a0dda966d282",
   "metadata": {},
   "source": [
    "![](web-client.jpeg)\n"
   ]
  },
  {
   "cell_type": "code",
   "execution_count": null,
   "id": "91fe5d37-336d-487f-ba80-189d06207dcf",
   "metadata": {},
   "outputs": [],
   "source": []
  }
 ],
 "metadata": {
  "kernelspec": {
   "display_name": "Python 3 (ipykernel)",
   "language": "python",
   "name": "python3"
  },
  "language_info": {
   "codemirror_mode": {
    "name": "ipython",
    "version": 3
   },
   "file_extension": ".py",
   "mimetype": "text/x-python",
   "name": "python",
   "nbconvert_exporter": "python",
   "pygments_lexer": "ipython3",
   "version": "3.11.4"
  }
 },
 "nbformat": 4,
 "nbformat_minor": 5
}
