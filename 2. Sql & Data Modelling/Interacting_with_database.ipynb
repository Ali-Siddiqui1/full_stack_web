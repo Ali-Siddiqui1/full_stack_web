{
 "cells": [
  {
   "cell_type": "markdown",
   "id": "1a209c57-49a7-477c-86d5-3545e639a971",
   "metadata": {
    "tags": []
   },
   "source": [
    "### SQL Review\n",
    "\n",
    "1. Create a table of drivers with id, first name, last name\n",
    "create table drivers (\n",
    "  id serial primary key,\n",
    "  first_name varchar,\n",
    "  last_name varchar\n",
    ");\n",
    "\n",
    "create table vehicles (\n",
    "  id serial primary key,\n",
    "  make varchar,\n",
    "  model varchar,\n",
    "  driver_id integer references drivers(id)\n",
    ");\n",
    "1. Insert a few records into both drivers and vehicles. Include 3 records of drivers who have vehicles, belonging in the vehicles table\n",
    "\n"
   ]
  },
  {
   "cell_type": "markdown",
   "id": "0428582e-a641-430a-930f-a0dda966d282",
   "metadata": {},
   "source": [
    "![](web-client.jpeg)\n"
   ]
  },
  {
   "cell_type": "markdown",
   "id": "1b420b04",
   "metadata": {
    "vscode": {
     "languageId": "sql"
    }
   },
   "source": [
    "#### Minuplating data \n",
    "\n",
    "**INSERT**\n",
    "INSERT INTO employees(id, name, age)\n",
    "VALUES\n",
    "    (1, 'John Doe', 30),\n",
    "    (2, 'Jame Smith', 25);\n",
    "\n",
    "**UPDATE- Modifying existing table**\n",
    "UPDATE employees\n",
    "SET age = 31 # the new values for those columns \n",
    "WHERE id = 1; # specify which rows to update\n",
    "\n",
    "#or update multiple columns\n",
    "UPDATE employees\n",
    "SET name = 'John Buttersby', age = 32\n",
    "WHERE id = 1;\n",
    "\n",
    "**DELETE**\n",
    "DELETE FROM employees\n",
    "WHERE id = 1; # specify which rows to delete\n",
    "\n",
    "#### QUERING DATA \n",
    "\n",
    "SELECT id, name, age\n",
    "FROM employees;\n",
    "\n",
    "* This query will return all rows of data in the employees table for the id, name, and age columns.\n",
    "\n",
    "* If you want to retrive all columns for every row in the employees table \n",
    "\n",
    "SELECT * FROM employees;\n",
    "\n",
    "**Filtering data**\n",
    "SELECT id, name, age\n",
    "FROM employees\n",
    "WHERE age = 30; # can add comparision > 25;\n",
    "\n",
    "##### STRUCTURING DATA \n",
    "\n",
    "**CREATE TABLE**\n",
    "CREATE TABLE employees (\n",
    "    id INT PRIMARY KEY,\n",
    "    name VARCHAR(100),\n",
    "    age INT,\n",
    "    position VARCHAR(50)\n",
    ");\n",
    "\n",
    "**ALTER TABLE**\n",
    "\n",
    "ALTER TABLE employees\n",
    "ADD salary DECIMAL(10, 2) # salary colum\n",
    "MODIFY POSITION VARCHAR(100) # modify position\n",
    "DROP COLUMN age; #Drop age column\n",
    "\n",
    "**DROP TABLE**\n",
    "DROP employees;\n",
    "\n",
    "#### JOINS GROUPING \n",
    "\n",
    "* INNER JOIN returns only the rows where there is a match in both tables based on the specified condition. If there’s no match, the row is excluded from the result\n",
    "\n",
    "SELECT employees.name, departments.department_name\n",
    "FROM employees\n",
    "INNER JOIN departments\n",
    "ON employees.id = departments.employees_id; #This will return only the employees who are assigned to a department\n",
    "\n",
    "* The LEFT JOIN (or LEFT OUTER JOIN) returns all the rows from the left table and the matched rows from the right table. If there’s no match, the result will contain NULL for columns from the right table\n",
    "\n",
    "SELECT employees.name, departments.department_name\n",
    "FROM employees #table1\n",
    "LEFT JOIN departments #table2 \n",
    "ON employees.id = departments.employee_id; \n",
    "\n",
    "* RIGHT JOIN Returns all rows from the right table, and matched rows from the left table. If no match, returns NULL for left table columns.\tAll rows from the right table, and matching rows from the left table.\n",
    "\n",
    "SELECT employees.name, departments.department_name\n",
    "FROM employees\n",
    "RIGHT JOIN departments\n",
    "ON employees.id = departments.employee_id;\n"
   ]
  },
  {
   "cell_type": "markdown",
   "id": "ccf9a1fd",
   "metadata": {},
   "source": [
    "#### SQL ALCHEMY \n",
    "A Python liberary for working with relational database without RAW SQL\n",
    "- It offers an ORM (Object Relational Mapping Library) which maps **table & Columns** to **class object & Attributs**\n",
    "\n",
    "![](sqla.png)"
   ]
  },
  {
   "cell_type": "markdown",
   "id": "1f27d8f4",
   "metadata": {},
   "source": []
  }
 ],
 "metadata": {
  "kernelspec": {
   "display_name": "WebDevelopment",
   "language": "python",
   "name": "python3"
  },
  "language_info": {
   "codemirror_mode": {
    "name": "ipython",
    "version": 3
   },
   "file_extension": ".py",
   "mimetype": "text/x-python",
   "name": "python",
   "nbconvert_exporter": "python",
   "pygments_lexer": "ipython3",
   "version": "3.12.7"
  }
 },
 "nbformat": 4,
 "nbformat_minor": 5
}
